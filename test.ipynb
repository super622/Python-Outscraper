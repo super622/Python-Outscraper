{
 "cells": [
  {
   "cell_type": "code",
   "execution_count": null,
   "metadata": {},
   "outputs": [],
   "source": [
    "YOUR_API_KEY = 'YXV0aDB8NjAyMDFmODYwOTQ5M2UwMDZhOGM4YjZhfDMxMjRjOTYyMGI'"
   ]
  },
  {
   "cell_type": "code",
   "execution_count": null,
   "metadata": {
    "tags": []
   },
   "outputs": [],
   "source": [
    "from outscraper import ApiClient\n",
    "\n",
    "api_client = ApiClient(api_key=YOUR_API_KEY)"
   ]
  },
  {
   "cell_type": "code",
   "execution_count": null,
   "metadata": {},
   "outputs": [],
   "source": [
    "places = api_client.google_maps_search('restaurants, Manhattan, NY, USA', limit=3)\n",
    "\n",
    "places[0]"
   ]
  },
  {
   "cell_type": "code",
   "execution_count": null,
   "metadata": {},
   "outputs": [],
   "source": [
    "reviews = api_client.google_maps_reviews(places[0][0]['place_id'], reviews_limit=3)\n",
    "\n",
    "reviews[0]['reviews_data'][1]"
   ]
  }
 ],
 "metadata": {
  "kernelspec": {
   "display_name": "Python 3.8.13 ('sahara-JkI-swsq')",
   "language": "python",
   "name": "python3"
  },
  "language_info": {
   "codemirror_mode": {
    "name": "ipython",
    "version": 3
   },
   "file_extension": ".py",
   "mimetype": "text/x-python",
   "name": "python",
   "nbconvert_exporter": "python",
   "pygments_lexer": "ipython3",
   "version": "3.8.13"
  },
  "orig_nbformat": 2,
  "vscode": {
   "interpreter": {
    "hash": "a982a626c5f587dff4bae2d1f820a0880fd741885e94d495bbe334a2f13cbecc"
   }
  }
 },
 "nbformat": 4,
 "nbformat_minor": 2
}
